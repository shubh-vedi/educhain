{
  "nbformat": 4,
  "nbformat_minor": 0,
  "metadata": {
    "colab": {
      "provenance": []
    },
    "kernelspec": {
      "name": "python3",
      "display_name": "Python 3"
    },
    "language_info": {
      "name": "python"
    }
  },
  "cells": [
    {
      "cell_type": "markdown",
      "source": [
        "[![Open In Colab](https://colab.research.google.com/assets/colab-badge.svg)](https://colab.research.google.com/drive/1hayElw8s0jGKGWZ-a6L_VjdQMkzeEu2v?usp=sharing)"
      ],
      "metadata": {
        "id": "08OmChpTl3FV"
      }
    },
    {
      "cell_type": "markdown",
      "source": [
        "#🎯 Advanced Flashcard Generator System\n",
        "\n",
        "🌟 Overview\n",
        "\n",
        "An intelligent educational tool that creates dynamic, interactive flashcards with advanced customization options and learning analytics."
      ],
      "metadata": {
        "id": "OwWEgz7-lYEw"
      }
    },
    {
      "cell_type": "code",
      "execution_count": 1,
      "metadata": {
        "colab": {
          "base_uri": "https://localhost:8080/"
        },
        "id": "0t5I9GAokUqH",
        "outputId": "3174ebff-4210-4d93-d333-4598f1667c6f"
      },
      "outputs": [
        {
          "output_type": "stream",
          "name": "stdout",
          "text": [
            "\u001b[?25l     \u001b[90m━━━━━━━━━━━━━━━━━━━━━━━━━━━━━━━━━━━━━━━━\u001b[0m \u001b[32m0.0/67.3 kB\u001b[0m \u001b[31m?\u001b[0m eta \u001b[36m-:--:--\u001b[0m\r\u001b[2K     \u001b[90m━━━━━━━━━━━━━━━━━━━━━━━━━━━━━━━━━━━━━━━━\u001b[0m \u001b[32m67.3/67.3 kB\u001b[0m \u001b[31m1.9 MB/s\u001b[0m eta \u001b[36m0:00:00\u001b[0m\n",
            "\u001b[?25h  Installing build dependencies ... \u001b[?25l\u001b[?25hdone\n",
            "  Getting requirements to build wheel ... \u001b[?25l\u001b[?25hdone\n",
            "  Preparing metadata (pyproject.toml) ... \u001b[?25l\u001b[?25hdone\n",
            "\u001b[2K     \u001b[90m━━━━━━━━━━━━━━━━━━━━━━━━━━━━━━━━━━━━━━━━\u001b[0m \u001b[32m50.6/50.6 kB\u001b[0m \u001b[31m1.1 MB/s\u001b[0m eta \u001b[36m0:00:00\u001b[0m\n",
            "\u001b[2K   \u001b[90m━━━━━━━━━━━━━━━━━━━━━━━━━━━━━━━━━━━━━━━━\u001b[0m \u001b[32m607.0/607.0 kB\u001b[0m \u001b[31m13.5 MB/s\u001b[0m eta \u001b[36m0:00:00\u001b[0m\n",
            "\u001b[2K   \u001b[90m━━━━━━━━━━━━━━━━━━━━━━━━━━━━━━━━━━━━━━━━\u001b[0m \u001b[32m2.4/2.4 MB\u001b[0m \u001b[31m46.6 MB/s\u001b[0m eta \u001b[36m0:00:00\u001b[0m\n",
            "\u001b[2K   \u001b[90m━━━━━━━━━━━━━━━━━━━━━━━━━━━━━━━━━━━━━━━━\u001b[0m \u001b[32m1.0/1.0 MB\u001b[0m \u001b[31m45.1 MB/s\u001b[0m eta \u001b[36m0:00:00\u001b[0m\n",
            "\u001b[2K   \u001b[90m━━━━━━━━━━━━━━━━━━━━━━━━━━━━━━━━━━━━━━━━\u001b[0m \u001b[32m2.4/2.4 MB\u001b[0m \u001b[31m62.5 MB/s\u001b[0m eta \u001b[36m0:00:00\u001b[0m\n",
            "\u001b[2K   \u001b[90m━━━━━━━━━━━━━━━━━━━━━━━━━━━━━━━━━━━━━━━━\u001b[0m \u001b[32m49.9/49.9 kB\u001b[0m \u001b[31m3.3 MB/s\u001b[0m eta \u001b[36m0:00:00\u001b[0m\n",
            "\u001b[2K   \u001b[90m━━━━━━━━━━━━━━━━━━━━━━━━━━━━━━━━━━━━━━━━\u001b[0m \u001b[32m386.9/386.9 kB\u001b[0m \u001b[31m22.3 MB/s\u001b[0m eta \u001b[36m0:00:00\u001b[0m\n",
            "\u001b[2K   \u001b[90m━━━━━━━━━━━━━━━━━━━━━━━━━━━━━━━━━━━━━━━━\u001b[0m \u001b[32m232.6/232.6 kB\u001b[0m \u001b[31m15.9 MB/s\u001b[0m eta \u001b[36m0:00:00\u001b[0m\n",
            "\u001b[2K   \u001b[90m━━━━━━━━━━━━━━━━━━━━━━━━━━━━━━━━━━━━━━━━\u001b[0m \u001b[32m1.9/1.9 MB\u001b[0m \u001b[31m43.9 MB/s\u001b[0m eta \u001b[36m0:00:00\u001b[0m\n",
            "\u001b[2K   \u001b[90m━━━━━━━━━━━━━━━━━━━━━━━━━━━━━━━━━━━━━━━━\u001b[0m \u001b[32m273.8/273.8 kB\u001b[0m \u001b[31m17.4 MB/s\u001b[0m eta \u001b[36m0:00:00\u001b[0m\n",
            "\u001b[2K   \u001b[90m━━━━━━━━━━━━━━━━━━━━━━━━━━━━━━━━━━━━━━━━\u001b[0m \u001b[32m94.7/94.7 kB\u001b[0m \u001b[31m7.0 MB/s\u001b[0m eta \u001b[36m0:00:00\u001b[0m\n",
            "\u001b[2K   \u001b[90m━━━━━━━━━━━━━━━━━━━━━━━━━━━━━━━━━━━━━━━━\u001b[0m \u001b[32m76.4/76.4 kB\u001b[0m \u001b[31m5.5 MB/s\u001b[0m eta \u001b[36m0:00:00\u001b[0m\n",
            "\u001b[2K   \u001b[90m━━━━━━━━━━━━━━━━━━━━━━━━━━━━━━━━━━━━━━━━\u001b[0m \u001b[32m78.0/78.0 kB\u001b[0m \u001b[31m4.9 MB/s\u001b[0m eta \u001b[36m0:00:00\u001b[0m\n",
            "\u001b[2K   \u001b[90m━━━━━━━━━━━━━━━━━━━━━━━━━━━━━━━━━━━━━━━━\u001b[0m \u001b[32m325.2/325.2 kB\u001b[0m \u001b[31m21.5 MB/s\u001b[0m eta \u001b[36m0:00:00\u001b[0m\n",
            "\u001b[2K   \u001b[90m━━━━━━━━━━━━━━━━━━━━━━━━━━━━━━━━━━━━━━━━\u001b[0m \u001b[32m1.9/1.9 MB\u001b[0m \u001b[31m50.7 MB/s\u001b[0m eta \u001b[36m0:00:00\u001b[0m\n",
            "\u001b[2K   \u001b[90m━━━━━━━━━━━━━━━━━━━━━━━━━━━━━━━━━━━━━━━━\u001b[0m \u001b[32m408.0/408.0 kB\u001b[0m \u001b[31m25.7 MB/s\u001b[0m eta \u001b[36m0:00:00\u001b[0m\n",
            "\u001b[2K   \u001b[90m━━━━━━━━━━━━━━━━━━━━━━━━━━━━━━━━━━━━━━━━\u001b[0m \u001b[32m296.9/296.9 kB\u001b[0m \u001b[31m19.1 MB/s\u001b[0m eta \u001b[36m0:00:00\u001b[0m\n",
            "\u001b[2K   \u001b[90m━━━━━━━━━━━━━━━━━━━━━━━━━━━━━━━━━━━━━━━━\u001b[0m \u001b[32m93.2/93.2 kB\u001b[0m \u001b[31m6.4 MB/s\u001b[0m eta \u001b[36m0:00:00\u001b[0m\n",
            "\u001b[2K   \u001b[90m━━━━━━━━━━━━━━━━━━━━━━━━━━━━━━━━━━━━━━━━\u001b[0m \u001b[32m13.2/13.2 MB\u001b[0m \u001b[31m83.6 MB/s\u001b[0m eta \u001b[36m0:00:00\u001b[0m\n",
            "\u001b[2K   \u001b[90m━━━━━━━━━━━━━━━━━━━━━━━━━━━━━━━━━━━━━━━━\u001b[0m \u001b[32m52.5/52.5 kB\u001b[0m \u001b[31m3.4 MB/s\u001b[0m eta \u001b[36m0:00:00\u001b[0m\n",
            "\u001b[2K   \u001b[90m━━━━━━━━━━━━━━━━━━━━━━━━━━━━━━━━━━━━━━━━\u001b[0m \u001b[32m149.7/149.7 kB\u001b[0m \u001b[31m10.8 MB/s\u001b[0m eta \u001b[36m0:00:00\u001b[0m\n",
            "\u001b[2K   \u001b[90m━━━━━━━━━━━━━━━━━━━━━━━━━━━━━━━━━━━━━━━━\u001b[0m \u001b[32m64.0/64.0 kB\u001b[0m \u001b[31m4.5 MB/s\u001b[0m eta \u001b[36m0:00:00\u001b[0m\n",
            "\u001b[2K   \u001b[90m━━━━━━━━━━━━━━━━━━━━━━━━━━━━━━━━━━━━━━━━\u001b[0m \u001b[32m110.5/110.5 kB\u001b[0m \u001b[31m7.7 MB/s\u001b[0m eta \u001b[36m0:00:00\u001b[0m\n",
            "\u001b[2K   \u001b[90m━━━━━━━━━━━━━━━━━━━━━━━━━━━━━━━━━━━━━━━━\u001b[0m \u001b[32m144.5/144.5 kB\u001b[0m \u001b[31m10.5 MB/s\u001b[0m eta \u001b[36m0:00:00\u001b[0m\n",
            "\u001b[2K   \u001b[90m━━━━━━━━━━━━━━━━━━━━━━━━━━━━━━━━━━━━━━━━\u001b[0m \u001b[32m54.4/54.4 kB\u001b[0m \u001b[31m3.5 MB/s\u001b[0m eta \u001b[36m0:00:00\u001b[0m\n",
            "\u001b[2K   \u001b[90m━━━━━━━━━━━━━━━━━━━━━━━━━━━━━━━━━━━━━━━━\u001b[0m \u001b[32m1.2/1.2 MB\u001b[0m \u001b[31m49.9 MB/s\u001b[0m eta \u001b[36m0:00:00\u001b[0m\n",
            "\u001b[2K   \u001b[90m━━━━━━━━━━━━━━━━━━━━━━━━━━━━━━━━━━━━━━━━\u001b[0m \u001b[32m63.7/63.7 kB\u001b[0m \u001b[31m4.7 MB/s\u001b[0m eta \u001b[36m0:00:00\u001b[0m\n",
            "\u001b[2K   \u001b[90m━━━━━━━━━━━━━━━━━━━━━━━━━━━━━━━━━━━━━━━━\u001b[0m \u001b[32m58.3/58.3 kB\u001b[0m \u001b[31m4.3 MB/s\u001b[0m eta \u001b[36m0:00:00\u001b[0m\n",
            "\u001b[2K   \u001b[90m━━━━━━━━━━━━━━━━━━━━━━━━━━━━━━━━━━━━━━━━\u001b[0m \u001b[32m442.1/442.1 kB\u001b[0m \u001b[31m27.0 MB/s\u001b[0m eta \u001b[36m0:00:00\u001b[0m\n",
            "\u001b[2K   \u001b[90m━━━━━━━━━━━━━━━━━━━━━━━━━━━━━━━━━━━━━━━━\u001b[0m \u001b[32m49.5/49.5 kB\u001b[0m \u001b[31m3.2 MB/s\u001b[0m eta \u001b[36m0:00:00\u001b[0m\n",
            "\u001b[2K   \u001b[90m━━━━━━━━━━━━━━━━━━━━━━━━━━━━━━━━━━━━━━━━\u001b[0m \u001b[32m54.5/54.5 kB\u001b[0m \u001b[31m4.0 MB/s\u001b[0m eta \u001b[36m0:00:00\u001b[0m\n",
            "\u001b[2K   \u001b[90m━━━━━━━━━━━━━━━━━━━━━━━━━━━━━━━━━━━━━━━━\u001b[0m \u001b[32m73.3/73.3 kB\u001b[0m \u001b[31m5.3 MB/s\u001b[0m eta \u001b[36m0:00:00\u001b[0m\n",
            "\u001b[2K   \u001b[90m━━━━━━━━━━━━━━━━━━━━━━━━━━━━━━━━━━━━━━━━\u001b[0m \u001b[32m3.8/3.8 MB\u001b[0m \u001b[31m75.9 MB/s\u001b[0m eta \u001b[36m0:00:00\u001b[0m\n",
            "\u001b[2K   \u001b[90m━━━━━━━━━━━━━━━━━━━━━━━━━━━━━━━━━━━━━━━━\u001b[0m \u001b[32m425.7/425.7 kB\u001b[0m \u001b[31m12.5 MB/s\u001b[0m eta \u001b[36m0:00:00\u001b[0m\n",
            "\u001b[2K   \u001b[90m━━━━━━━━━━━━━━━━━━━━━━━━━━━━━━━━━━━━━━━━\u001b[0m \u001b[32m164.1/164.1 kB\u001b[0m \u001b[31m10.3 MB/s\u001b[0m eta \u001b[36m0:00:00\u001b[0m\n",
            "\u001b[2K   \u001b[90m━━━━━━━━━━━━━━━━━━━━━━━━━━━━━━━━━━━━━━━━\u001b[0m \u001b[32m46.0/46.0 kB\u001b[0m \u001b[31m3.2 MB/s\u001b[0m eta \u001b[36m0:00:00\u001b[0m\n",
            "\u001b[2K   \u001b[90m━━━━━━━━━━━━━━━━━━━━━━━━━━━━━━━━━━━━━━━━\u001b[0m \u001b[32m86.8/86.8 kB\u001b[0m \u001b[31m6.2 MB/s\u001b[0m eta \u001b[36m0:00:00\u001b[0m\n",
            "\u001b[?25h  Building wheel for pypika (pyproject.toml) ... \u001b[?25l\u001b[?25hdone\n"
          ]
        }
      ],
      "source": [
        "!pip install -U educhain --quiet"
      ]
    },
    {
      "cell_type": "code",
      "source": [
        "from langchain_openai import ChatOpenAI\n",
        "import os\n",
        "from google.colab import userdata\n",
        "os.environ[\"OPENAI_API_KEY\"] = userdata.get('OPENAI_API_KEY')\n"
      ],
      "metadata": {
        "id": "KYilRkbfkch2"
      },
      "execution_count": null,
      "outputs": []
    },
    {
      "cell_type": "markdown",
      "source": [
        "\n",
        "ContentEngine Cookbook\n",
        "=======================\n",
        "Simplified example demonstrating the practical use of ContentEngine\n",
        "for generating flashcards for medical education and technical certification preparation.\n",
        "\n"
      ],
      "metadata": {
        "id": "CG62jDMBnXqD"
      }
    },
    {
      "cell_type": "markdown",
      "source": [
        "### Medical Exams Flashcards 🏥"
      ],
      "metadata": {
        "id": "fsAULwccnb6R"
      }
    },
    {
      "cell_type": "code",
      "source": [
        "\n",
        "import json\n",
        "from educhain import Educhain\n",
        "\n",
        "client = Educhain()\n",
        "\n",
        "# Generate flashcards for a given topic\n",
        "def generate_medical_flashcards(topic: str):\n",
        "    content_engine = client.content_engine\n",
        "\n",
        "    flashcards = content_engine.generate_flashcards(\n",
        "        topic=topic,\n",
        "        num=5,  # Generate 10 flashcards\n",
        "        custom_instructions=\"\"\"\n",
        "        Create flashcards with:\n",
        "        1. High-yield medical facts\n",
        "        2. Diagnostic criteria\n",
        "        3. Treatment protocols\n",
        "        4. Key clinical pearls\n",
        "        Include references to the latest research where relevant.\n",
        "        \"\"\"\n",
        "    )\n",
        "\n",
        "    # Print the flashcards\n",
        "    print(f\"Flashcards for {topic}:\\n\")\n",
        "    print(json.dumps(flashcards.dict(), indent=2))\n",
        "\n",
        "\n",
        "\n"
      ],
      "metadata": {
        "id": "vVGXTLsol99b"
      },
      "execution_count": null,
      "outputs": []
    },
    {
      "cell_type": "code",
      "source": [
        "generate_medical_flashcards(topic=\"Acute Coronary Syndromes\")"
      ],
      "metadata": {
        "colab": {
          "base_uri": "https://localhost:8080/"
        },
        "id": "zTvKC_CFm6JA",
        "outputId": "ba78731b-ef03-4d67-a676-83f6b50ac25a"
      },
      "execution_count": null,
      "outputs": [
        {
          "output_type": "stream",
          "name": "stdout",
          "text": [
            "Flashcards for Acute Coronary Syndromes:\n",
            "\n",
            "{\n",
            "  \"title\": \"Acute Coronary Syndromes\",\n",
            "  \"flashcards\": [\n",
            "    {\n",
            "      \"front\": \"What are the types of Acute Coronary Syndromes (ACS)?\",\n",
            "      \"back\": \"The three main types of ACS are Unstable Angina, Non-ST-Elevation Myocardial Infarction (NSTEMI), and ST-Elevation Myocardial Infarction (STEMI).\",\n",
            "      \"explanation\": \"ACS encompasses a range of conditions associated with sudden reduced blood flow to the heart. Differentiating between these types is crucial for determining the appropriate management and treatment.\"\n",
            "    },\n",
            "    {\n",
            "      \"front\": \"What is the diagnostic criterion for NSTEMI?\",\n",
            "      \"back\": \"NSTEMI is diagnosed based on elevated cardiac biomarkers (like troponins) and persistent chest pain, without ST-segment elevation on the ECG.\",\n",
            "      \"explanation\": \"Troponin elevation indicates myocardial injury, which is a key factor in diagnosing NSTEMI. Immediate treatment is necessary to reduce the risk of further heart damage.\"\n",
            "    },\n",
            "    {\n",
            "      \"front\": \"What is the first-line treatment for STEMI?\",\n",
            "      \"back\": \"The first-line treatment for STEMI is reperfusion therapy, which can be achieved through percutaneous coronary intervention (PCI) or thrombolytic therapy.\",\n",
            "      \"explanation\": \"Timely reperfusion is critical in STEMI management to restore blood flow and minimize myocardial necrosis. PCI is preferred when available and can often be performed within a few hours of symptom onset.\"\n",
            "    },\n",
            "    {\n",
            "      \"front\": \"What are common risk factors for Acute Coronary Syndromes?\",\n",
            "      \"back\": \"Common risk factors include hypertension, hyperlipidemia, smoking, diabetes mellitus, obesity, and a sedentary lifestyle.\",\n",
            "      \"explanation\": \"Understanding these risk factors can aid in prevention strategies and early intervention to reduce the incidence of ACS.\"\n",
            "    },\n",
            "    {\n",
            "      \"front\": \"What is the role of antiplatelet therapy in ACS management?\",\n",
            "      \"back\": \"Antiplatelet therapy, such as aspirin and P2Y12 inhibitors (e.g., clopidogrel), is crucial in reducing thrombus formation and preventing further cardiovascular events.\",\n",
            "      \"explanation\": \"These medications are typically initiated as soon as ACS is suspected to improve outcomes and are often part of long-term management post-event.\"\n",
            "    }\n",
            "  ]\n",
            "}\n"
          ]
        }
      ]
    },
    {
      "cell_type": "markdown",
      "source": [
        "## Interactive Flashcards with custom topic and accessiblity 🆒"
      ],
      "metadata": {
        "id": "4b5KRlAWl6Y6"
      }
    },
    {
      "cell_type": "code",
      "source": [
        "import json\n",
        "from educhain import Educhain\n",
        "from typing import Dict, Any\n",
        "import os\n",
        "\n",
        "class InteractiveFlashcards:\n",
        "    def __init__(self):\n",
        "        self.client = Educhain()\n",
        "        self.current_flashcards = None\n",
        "        self.shown_cards = set()\n",
        "\n",
        "    def generate_medical_flashcards(self, topic: str):\n",
        "        \"\"\"Generate medical flashcards for a given topic.\"\"\"\n",
        "        content_engine = self.client.content_engine\n",
        "\n",
        "        self.current_flashcards = content_engine.generate_flashcards(\n",
        "            topic=topic,\n",
        "            num=5,\n",
        "            custom_instructions=\"\"\"\n",
        "            Create flashcards with:\n",
        "            1. High-yield medical facts\n",
        "            2. Diagnostic criteria\n",
        "            3. Treatment protocols\n",
        "            4. Key clinical pearls\n",
        "            Include references to the latest research where relevant.\n",
        "            \"\"\"\n",
        "        )\n",
        "        self.shown_cards = set()\n",
        "        self.display_fronts()\n",
        "\n",
        "    def display_fronts(self):\n",
        "        \"\"\"Display only the front of all flashcards.\"\"\"\n",
        "        if not self.current_flashcards:\n",
        "            print(\"No flashcards generated yet!\")\n",
        "            return\n",
        "\n",
        "        print(f\"\\nFlashcards Topic: {self.current_flashcards.title}\")\n",
        "        print(\"\\nAvailable cards (showing front side only):\")\n",
        "        print(\"-\" * 50)\n",
        "\n",
        "        for idx, card in enumerate(self.current_flashcards.flashcards, 1):\n",
        "            print(f\"\\nCard {idx}:\")\n",
        "            print(f\"Front: {card.front}\")\n",
        "            print(\"-\" * 50)\n",
        "\n",
        "        self._show_menu()\n",
        "\n",
        "    def reveal_card(self, card_number: int):\n",
        "        \"\"\"Reveal the back of a specific card.\"\"\"\n",
        "        if not self.current_flashcards:\n",
        "            print(\"No flashcards generated yet!\")\n",
        "            return\n",
        "\n",
        "        if not 1 <= card_number <= len(self.current_flashcards.flashcards):\n",
        "            print(\"Invalid card number!\")\n",
        "            return\n",
        "\n",
        "        card = self.current_flashcards.flashcards[card_number - 1]\n",
        "        print(f\"\\nCard {card_number}:\")\n",
        "        print(f\"Front: {card.front}\")\n",
        "        print(f\"Back: {card.back}\")\n",
        "        if card.explanation:\n",
        "            print(f\"Explanation: {card.explanation}\")\n",
        "        print(\"-\" * 50)\n",
        "\n",
        "        self.shown_cards.add(card_number)\n",
        "        self._show_menu()\n",
        "\n",
        "    def _show_menu(self):\n",
        "        \"\"\"Display the interactive menu.\"\"\"\n",
        "        print(\"\\nOptions:\")\n",
        "        print(\"- Enter a card number (1-5) to reveal its back\")\n",
        "        print(\"- Enter 'r' to refresh/show fronts only\")\n",
        "        print(\"- Enter 'q' to quit\")\n",
        "        print(\"\\nYour choice: \", end=\"\")\n",
        "\n",
        "    def handle_input(self, user_input: str):\n",
        "        \"\"\"Handle user input for the interactive menu.\"\"\"\n",
        "        if user_input.lower() == 'q':\n",
        "            return False\n",
        "        elif user_input.lower() == 'r':\n",
        "            self.display_fronts()\n",
        "        else:\n",
        "            try:\n",
        "                card_num = int(user_input)\n",
        "                self.reveal_card(card_num)\n",
        "            except ValueError:\n",
        "                print(\"Invalid input! Please try again.\")\n",
        "                self._show_menu()\n",
        "        return True\n",
        "\n",
        "def main():\n",
        "    flashcard_system = InteractiveFlashcards()\n",
        "\n",
        "    # Get the topic from user\n",
        "    topic = input(\"Enter medical topic for flashcards: \")\n",
        "\n",
        "    # Generate initial flashcards\n",
        "    flashcard_system.generate_medical_flashcards(topic)\n",
        "\n",
        "    # Interactive loop\n",
        "    while True:\n",
        "        user_input = input()\n",
        "        if not flashcard_system.handle_input(user_input):\n",
        "            break\n",
        "\n",
        "if __name__ == \"__main__\":\n",
        "    main()"
      ],
      "metadata": {
        "colab": {
          "base_uri": "https://localhost:8080/"
        },
        "id": "C0Uguc8qk_Go",
        "outputId": "ef7e5074-e37e-4ec3-c982-8749f2627b87"
      },
      "execution_count": null,
      "outputs": [
        {
          "name": "stdout",
          "output_type": "stream",
          "text": [
            "Enter medical topic for flashcards: Machine Learning\n",
            "\n",
            "Flashcards Topic: Machine Learning\n",
            "\n",
            "Available cards (showing front side only):\n",
            "--------------------------------------------------\n",
            "\n",
            "Card 1:\n",
            "Front: What is supervised learning?\n",
            "--------------------------------------------------\n",
            "\n",
            "Card 2:\n",
            "Front: Define overfitting in machine learning.\n",
            "--------------------------------------------------\n",
            "\n",
            "Card 3:\n",
            "Front: What is a confusion matrix?\n",
            "--------------------------------------------------\n",
            "\n",
            "Card 4:\n",
            "Front: What is the purpose of cross-validation?\n",
            "--------------------------------------------------\n",
            "\n",
            "Card 5:\n",
            "Front: Explain the term 'feature engineering'.\n",
            "--------------------------------------------------\n",
            "\n",
            "Options:\n",
            "- Enter a card number (1-5) to reveal its back\n",
            "- Enter 'r' to refresh/show fronts only\n",
            "- Enter 'q' to quit\n",
            "\n",
            "Your choice: 5\n",
            "\n",
            "Card 5:\n",
            "Front: Explain the term 'feature engineering'.\n",
            "Back: The process of selecting, modifying, or creating features in a dataset to improve the performance of a machine learning model.\n",
            "Explanation: Effective feature engineering can dramatically improve model performance. It involves domain knowledge to create meaningful features that enhance the model's ability to learn from the data.\n",
            "--------------------------------------------------\n",
            "\n",
            "Options:\n",
            "- Enter a card number (1-5) to reveal its back\n",
            "- Enter 'r' to refresh/show fronts only\n",
            "- Enter 'q' to quit\n",
            "\n",
            "Your choice: 2\n",
            "\n",
            "Card 2:\n",
            "Front: Define overfitting in machine learning.\n",
            "Back: Overfitting occurs when a model learns the training data too well, capturing noise along with the underlying patterns.\n",
            "Explanation: An overfit model performs well on training data but poorly on unseen data. Techniques to prevent overfitting include cross-validation, pruning, and regularization.\n",
            "--------------------------------------------------\n",
            "\n",
            "Options:\n",
            "- Enter a card number (1-5) to reveal its back\n",
            "- Enter 'r' to refresh/show fronts only\n",
            "- Enter 'q' to quit\n",
            "\n",
            "Your choice: r\n",
            "\n",
            "Flashcards Topic: Machine Learning\n",
            "\n",
            "Available cards (showing front side only):\n",
            "--------------------------------------------------\n",
            "\n",
            "Card 1:\n",
            "Front: What is supervised learning?\n",
            "--------------------------------------------------\n",
            "\n",
            "Card 2:\n",
            "Front: Define overfitting in machine learning.\n",
            "--------------------------------------------------\n",
            "\n",
            "Card 3:\n",
            "Front: What is a confusion matrix?\n",
            "--------------------------------------------------\n",
            "\n",
            "Card 4:\n",
            "Front: What is the purpose of cross-validation?\n",
            "--------------------------------------------------\n",
            "\n",
            "Card 5:\n",
            "Front: Explain the term 'feature engineering'.\n",
            "--------------------------------------------------\n",
            "\n",
            "Options:\n",
            "- Enter a card number (1-5) to reveal its back\n",
            "- Enter 'r' to refresh/show fronts only\n",
            "- Enter 'q' to quit\n",
            "\n",
            "Your choice: q\n"
          ]
        }
      ]
    },
    {
      "cell_type": "markdown",
      "source": [
        "## Technical flashcards 🧑"
      ],
      "metadata": {
        "id": "3OtfTzq7ngBS"
      }
    },
    {
      "cell_type": "code",
      "source": [
        "# Generate technical flashcards for a certification domain\n",
        "def generate_technical_flashcards(certification: str, domain: str):\n",
        "    content_engine = client.content_engine\n",
        "\n",
        "    flashcards = content_engine.generate_flashcards(\n",
        "        topic=f\"{certification} - {domain}\",\n",
        "        num=5,  # Generate 10 flashcards\n",
        "        custom_instructions=\"\"\"\n",
        "        Create technical flashcards with:\n",
        "        1. Key terms and concepts from official exam objectives\n",
        "        2. Practical examples and scenarios\n",
        "        3. Best practices and common exam pitfalls\n",
        "        Include references to relevant technical documentation.\n",
        "        \"\"\"\n",
        "    )\n",
        "\n",
        "    # Print the flashcards\n",
        "    print(f\"Flashcards for {certification} - {domain}:\\n\")\n",
        "    print(json.dumps(flashcards.dict(), indent=2))"
      ],
      "metadata": {
        "id": "QbZsqdN_l-Tg"
      },
      "execution_count": null,
      "outputs": []
    },
    {
      "cell_type": "code",
      "source": [
        "generate_technical_flashcards(certification=\"AWS Solutions Architect\", domain=\"Design Resilient Architectures\")\n"
      ],
      "metadata": {
        "colab": {
          "base_uri": "https://localhost:8080/"
        },
        "id": "hw46Z6rFm9yT",
        "outputId": "8fafd407-35dd-4dc8-9d92-bbdd5d30ef5d"
      },
      "execution_count": null,
      "outputs": [
        {
          "output_type": "stream",
          "name": "stdout",
          "text": [
            "Flashcards for AWS Solutions Architect - Design Resilient Architectures:\n",
            "\n",
            "{\n",
            "  \"title\": \"AWS Solutions Architect - Design Resilient Architectures\",\n",
            "  \"flashcards\": [\n",
            "    {\n",
            "      \"front\": \"What is High Availability (HA)?\",\n",
            "      \"back\": \"High Availability (HA) refers to a system's ability to remain operational and accessible for a high percentage of time, minimizing downtime.\",\n",
            "      \"explanation\": \"In AWS, HA can be achieved through the use of multiple availability zones (AZs) and load balancers to distribute traffic and resources across different zones, thus reducing the risk of a single point of failure.\"\n",
            "    },\n",
            "    {\n",
            "      \"front\": \"What are Availability Zones (AZs)?\",\n",
            "      \"back\": \"Availability Zones are isolated locations within a region designed to be independent from failures in other zones, providing fault tolerance.\",\n",
            "      \"explanation\": \"AZs allow you to build applications that are more resilient. By deploying resources across multiple AZs, you can ensure that if one AZ goes down, the others can continue to serve traffic.\"\n",
            "    },\n",
            "    {\n",
            "      \"front\": \"Define Elastic Load Balancing (ELB).\",\n",
            "      \"back\": \"Elastic Load Balancing (ELB) automatically distributes incoming application traffic across multiple targets, such as EC2 instances.\",\n",
            "      \"explanation\": \"ELB enhances the availability and fault tolerance of your applications by routing traffic only to healthy instances, and it can scale automatically in response to incoming traffic.\"\n",
            "    },\n",
            "    {\n",
            "      \"front\": \"What is the purpose of AWS Auto Scaling?\",\n",
            "      \"back\": \"AWS Auto Scaling automatically adjusts the number of EC2 instances in response to changing traffic patterns, ensuring optimal performance and cost efficiency.\",\n",
            "      \"explanation\": \"By setting scaling policies based on CloudWatch metrics, you can maintain application performance during traffic spikes while minimizing costs during low-traffic periods.\"\n",
            "    },\n",
            "    {\n",
            "      \"front\": \"What is the significance of Route 53 in designing resilient architectures?\",\n",
            "      \"back\": \"Amazon Route 53 is a scalable Domain Name System (DNS) web service that provides highly reliable and cost-effective domain registration, DNS routing, and health checking.\",\n",
            "      \"explanation\": \"Route 53 can route traffic to healthy endpoints and even perform geo-routing, which helps ensure that users are directed to the closest and most responsive resources, enhancing overall application resilience.\"\n",
            "    }\n",
            "  ]\n",
            "}\n"
          ]
        }
      ]
    },
    {
      "cell_type": "code",
      "source": [
        "# Usage examples\n",
        "def run_examples():\n",
        "    # Medical education flashcards\n",
        "    generate_medical_flashcards(topic=\"Acute Coronary Syndromes\")\n",
        "\n",
        "    # Technical certification flashcards\n",
        "    generate_technical_flashcards(certification=\"AWS Solutions Architect\", domain=\"Design Resilient Architectures\")\n",
        "\n",
        "if __name__ == \"__main__\":\n",
        "    run_examples()\n"
      ],
      "metadata": {
        "colab": {
          "base_uri": "https://localhost:8080/"
        },
        "id": "oDCCKQxGm2me",
        "outputId": "bb686c94-fb28-493f-877f-5c1ab486c24d"
      },
      "execution_count": null,
      "outputs": [
        {
          "output_type": "stream",
          "name": "stdout",
          "text": [
            "Flashcards for Acute Coronary Syndromes:\n",
            "\n",
            "{\n",
            "  \"title\": \"Acute Coronary Syndromes\",\n",
            "  \"flashcards\": [\n",
            "    {\n",
            "      \"front\": \"What is Acute Coronary Syndrome (ACS)?\",\n",
            "      \"back\": \"ACS is a term used to describe a range of conditions associated with sudden reduced blood flow to the heart.\",\n",
            "      \"explanation\": \"This includes unstable angina, non-ST elevation myocardial infarction (NSTEMI), and ST elevation myocardial infarction (STEMI).\"\n",
            "    },\n",
            "    {\n",
            "      \"front\": \"What are the classic symptoms of ACS?\",\n",
            "      \"back\": \"Typical symptoms include chest pain or discomfort, shortness of breath, nausea, and sweating.\",\n",
            "      \"explanation\": \"Symptoms may vary between men and women, with women often experiencing atypical symptoms.\"\n",
            "    },\n",
            "    {\n",
            "      \"front\": \"What is the role of troponin in diagnosing ACS?\",\n",
            "      \"back\": \"Troponin is a cardiac biomarker that indicates myocardial injury; elevated levels suggest a heart attack.\",\n",
            "      \"explanation\": \"Troponin tests are key in differentiating between NSTEMI and unstable angina.\"\n",
            "    },\n",
            "    {\n",
            "      \"front\": \"What are the ECG changes associated with STEMI?\",\n",
            "      \"back\": \"ECG findings typically include ST-segment elevation in the leads corresponding to the affected myocardial area.\",\n",
            "      \"explanation\": \"These changes are critical for diagnosing STEMI and guiding treatment decisions.\"\n",
            "    },\n",
            "    {\n",
            "      \"front\": \"What is the initial management for suspected ACS?\",\n",
            "      \"back\": \"Initial management includes oxygen, nitroglycerin, aspirin, and morphine as needed.\",\n",
            "      \"explanation\": \"These interventions aim to relieve pain and improve blood flow while preparing for further evaluation.\"\n",
            "    },\n",
            "    {\n",
            "      \"front\": \"What is the difference between NSTEMI and unstable angina?\",\n",
            "      \"back\": \"NSTEMI is characterized by elevated troponin levels indicating myocardial injury, while unstable angina does not show elevated troponin.\",\n",
            "      \"explanation\": \"Both conditions require urgent medical evaluation and treatment, but NSTEMI indicates more severe heart damage.\"\n",
            "    },\n",
            "    {\n",
            "      \"front\": \"What is the preferred reperfusion therapy for STEMI?\",\n",
            "      \"back\": \"Primary percutaneous coronary intervention (PCI) is the preferred reperfusion therapy for STEMI.\",\n",
            "      \"explanation\": \"If PCI cannot be performed within the optimal time frame, thrombolytic therapy may be considered.\"\n",
            "    },\n",
            "    {\n",
            "      \"front\": \"What are the common long-term management strategies for patients with ACS?\",\n",
            "      \"back\": \"Long-term management includes antiplatelet therapy, beta-blockers, ACE inhibitors, statins, and lifestyle modifications.\",\n",
            "      \"explanation\": \"These strategies aim to reduce the risk of future cardiovascular events.\"\n",
            "    },\n",
            "    {\n",
            "      \"front\": \"What is the significance of the TIMI score in ACS?\",\n",
            "      \"back\": \"The TIMI score helps assess the risk of cardiac events in patients with unstable angina or NSTEMI.\",\n",
            "      \"explanation\": \"It guides treatment decisions and helps in determining the need for invasive procedures.\"\n",
            "    },\n",
            "    {\n",
            "      \"front\": \"What lifestyle changes are recommended for preventing future ACS events?\",\n",
            "      \"back\": \"Recommended changes include smoking cessation, a heart-healthy diet, regular exercise, and weight management.\",\n",
            "      \"explanation\": \"These changes help reduce cardiovascular risk factors and improve overall heart health.\"\n",
            "    }\n",
            "  ]\n",
            "}\n",
            "Flashcards for AWS Solutions Architect - Design Resilient Architectures:\n",
            "\n",
            "{\n",
            "  \"title\": \"AWS Solutions Architect - Design Resilient Architectures\",\n",
            "  \"flashcards\": [\n",
            "    {\n",
            "      \"front\": \"What is High Availability (HA)?\",\n",
            "      \"back\": \"A design approach that ensures a system is continuously operational for a long period of time.\",\n",
            "      \"explanation\": \"HA is achieved by eliminating single points of failure and using redundant components. AWS services like ELB and Auto Scaling help implement HA.\"\n",
            "    },\n",
            "    {\n",
            "      \"front\": \"Define Fault Tolerance.\",\n",
            "      \"back\": \"The ability of a system to continue operating properly in the event of the failure of some of its components.\",\n",
            "      \"explanation\": \"Fault tolerance can be achieved through redundancy and replication in AWS, such as using multiple Availability Zones.\"\n",
            "    },\n",
            "    {\n",
            "      \"front\": \"What is Disaster Recovery (DR)?\",\n",
            "      \"back\": \"A set of policies and procedures to enable the recovery of technology infrastructure after a natural or human-induced disaster.\",\n",
            "      \"explanation\": \"AWS provides various DR strategies such as pilot light, warm standby, and multi-site, which can be implemented using services like AWS Backup and Amazon S3.\"\n",
            "    },\n",
            "    {\n",
            "      \"front\": \"What does the term 'Elasticity' refer to in cloud computing?\",\n",
            "      \"back\": \"The ability of a system to automatically grow and shrink resources as needed.\",\n",
            "      \"explanation\": \"AWS services like EC2 Auto Scaling allow applications to adapt to varying loads, ensuring efficient resource utilization.\"\n",
            "    },\n",
            "    {\n",
            "      \"front\": \"What are Availability Zones (AZs)?\",\n",
            "      \"back\": \"Isolated locations within a region that provide high availability and fault tolerance.\",\n",
            "      \"explanation\": \"AZs are crucial for building resilient architectures on AWS. Distributing instances across multiple AZs can protect against data center failures.\"\n",
            "    },\n",
            "    {\n",
            "      \"front\": \"What is the AWS Well-Architected Framework?\",\n",
            "      \"back\": \"A framework that provides best practices and guidelines to help cloud architects build secure, high-performing, resilient, and efficient infrastructure.\",\n",
            "      \"explanation\": \"It consists of five pillars: Operational Excellence, Security, Reliability, Performance Efficiency, and Cost Optimization.\"\n",
            "    },\n",
            "    {\n",
            "      \"front\": \"Define Load Balancing.\",\n",
            "      \"back\": \"A method of distributing network traffic across multiple servers to ensure no single server becomes overwhelmed.\",\n",
            "      \"explanation\": \"AWS Elastic Load Balancing (ELB) automatically distributes incoming application traffic across multiple targets, enhancing the availability of applications.\"\n",
            "    },\n",
            "    {\n",
            "      \"front\": \"What is Amazon Route 53?\",\n",
            "      \"back\": \"A scalable Domain Name System (DNS) web service designed to provide highly reliable and cost-effective domain registration and DNS routing.\",\n",
            "      \"explanation\": \"Route 53 can be used to route users to different endpoints based on latency or health checks, contributing to application resilience.\"\n",
            "    },\n",
            "    {\n",
            "      \"front\": \"What is a Multi-Region Architecture?\",\n",
            "      \"back\": \"An architecture that uses multiple AWS regions to provide redundancy and failover in case one region goes down.\",\n",
            "      \"explanation\": \"This approach can enhance the availability and durability of applications, especially critical ones requiring stringent SLAs.\"\n",
            "    },\n",
            "    {\n",
            "      \"front\": \"Explain the principle of 'Infrastructure as Code' (IaC).\",\n",
            "      \"back\": \"The practice of managing and provisioning computing infrastructure through machine-readable definition files, rather than physical hardware configuration.\",\n",
            "      \"explanation\": \"AWS CloudFormation and Terraform are popular tools for implementing IaC, allowing for reproducible and version-controlled infrastructure deployments.\"\n",
            "    }\n",
            "  ]\n",
            "}\n"
          ]
        }
      ]
    },
    {
      "cell_type": "code",
      "source": [],
      "metadata": {
        "id": "zr1ncUC_nBTT"
      },
      "execution_count": null,
      "outputs": []
    }
  ]
}