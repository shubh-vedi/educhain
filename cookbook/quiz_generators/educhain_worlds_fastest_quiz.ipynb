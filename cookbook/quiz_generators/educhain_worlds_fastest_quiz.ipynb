{
  "cells": [
    {
      "cell_type": "markdown",
      "source": [
        "[![Open In Colab](https://colab.research.google.com/assets/colab-badge.svg)](https://drive.google.com/file/d/1NIWsexPTbM8ov7z4aa51yOdIaiJcd2uL/view?usp=sharing)"
      ],
      "metadata": {
        "id": "OsnTJq5V6rvx"
      }
    },
    {
      "cell_type": "markdown",
      "metadata": {
        "id": "mNQskyID6Wfm"
      },
      "source": [
        "# World's Fastest Quiz Generator!\n",
        "\n",
        "This notebook demonstrates how to use Educhain with Cerebras' Llama 3.1-70B model to rapidly generate high-quality quiz questions.\n",
        "\n",
        "Educhain is an open-source framework that makes it easy to create educational content using LLMs. When paired with Cerebras' powerful Llama 3.1-70B model, it can generate contextually-rich quiz questions across any topic.\n",
        "\n",
        "- Educhain Github: https://github.com/satvik314/educhain\n",
        "- Cerebras API : https://cloud.cerebras.ai/platform\n",
        "\n",
        "Key features:\n",
        "- Fast quiz generation using state-of-the-art LLMs\n",
        "- Customizable topics and instructions\n",
        "- High quality, relevant questions\n",
        "- Easy integration with Cerebras API\n"
      ]
    },
    {
      "cell_type": "code",
      "execution_count": null,
      "metadata": {
        "id": "Muk5zavQ6Wfp",
        "outputId": "254398ed-7b6d-4eb2-f93f-1b7b16bab66c"
      },
      "outputs": [
        {
          "name": "stdout",
          "output_type": "stream",
          "text": [
            "\n",
            "\u001b[1m[\u001b[0m\u001b[34;49mnotice\u001b[0m\u001b[1;39;49m]\u001b[0m\u001b[39;49m A new release of pip is available: \u001b[0m\u001b[31;49m24.0\u001b[0m\u001b[39;49m -> \u001b[0m\u001b[32;49m24.3.1\u001b[0m\n",
            "\u001b[1m[\u001b[0m\u001b[34;49mnotice\u001b[0m\u001b[1;39;49m]\u001b[0m\u001b[39;49m To update, run: \u001b[0m\u001b[32;49mpip install --upgrade pip\u001b[0m\n"
          ]
        }
      ],
      "source": [
        "!pip install -qU educhain langchain-openai"
      ]
    },
    {
      "cell_type": "code",
      "execution_count": null,
      "metadata": {
        "id": "yJ7vR2NG6Wfr"
      },
      "outputs": [],
      "source": [
        "from langchain_openai import ChatOpenAI\n",
        "from educhain import LLMConfig\n",
        "\n",
        "llama3_70b = ChatOpenAI(\n",
        "    model = \"llama3.1-70b\",\n",
        "    openai_api_base=\"https://api.cerebras.ai/v1\",\n",
        "    openai_api_key=\"CEREBRAS_API_KEY\") ## replace with your API key\n",
        "\n",
        "llama3_70b_config = LLMConfig(custom_model=llama3_70b)"
      ]
    },
    {
      "cell_type": "code",
      "execution_count": null,
      "metadata": {
        "id": "fdjB7fRh6Wfs",
        "outputId": "ee449fe5-67c8-4b66-d485-e9ee6efbd3d2"
      },
      "outputs": [
        {
          "name": "stdout",
          "output_type": "stream",
          "text": [
            "Question 1:\n",
            "Question: Who is credited with developing the theory of classical conditioning?\n",
            "Options:\n",
            "  A. B.F. Skinner\n",
            "  B. Sigmund Freud\n",
            "  C. Ivan Pavlov\n",
            "  D. Jean Piaget\n",
            "\n",
            "Correct Answer: Ivan Pavlov\n",
            "Explanation: Ivan Pavlov, a Russian physiologist, discovered classical conditioning while studying the digestive system of dogs.\n",
            "\n",
            "Question 2:\n",
            "Question: What is the term for the initial stimulus that naturally elicits a response in classical conditioning?\n",
            "Options:\n",
            "  A. Unconditioned Response (UR)\n",
            "  B. Conditioned Stimulus (CS)\n",
            "  C. Conditioned Response (CR)\n",
            "  D. Unconditioned Stimulus (US)\n",
            "\n",
            "Correct Answer: Unconditioned Stimulus (US)\n",
            "Explanation: The unconditioned stimulus is a stimulus that naturally elicits a response without any prior learning.\n",
            "\n",
            "Question 3:\n",
            "Question: What is the process by which a neutral stimulus becomes associated with an unconditioned stimulus to elicit a conditioned response?\n",
            "Options:\n",
            "  A. Extinction\n",
            "  B. Spontaneous Recovery\n",
            "  C. Acquisition\n",
            "  D. Habituation\n",
            "\n",
            "Correct Answer: Acquisition\n",
            "Explanation: Acquisition is the process of learning a new association between a neutral stimulus and an unconditioned stimulus.\n",
            "\n",
            "Question 4:\n",
            "Question: What happens to the conditioned response when the conditioned stimulus is repeatedly presented without the unconditioned stimulus?\n",
            "Options:\n",
            "  A. Spontaneous Recovery\n",
            "  B. Habituation\n",
            "  C. Sensitization\n",
            "  D. Extinction\n",
            "\n",
            "Correct Answer: Extinction\n",
            "Explanation: Extinction occurs when the conditioned response decreases in strength or disappears when the conditioned stimulus is repeatedly presented without the unconditioned stimulus.\n",
            "\n",
            "Question 5:\n",
            "Question: What is the term for the reappearance of a conditioned response after extinction has occurred?\n",
            "Options:\n",
            "  A. Extinction\n",
            "  B. Habituation\n",
            "  C. Sensitization\n",
            "  D. Spontaneous Recovery\n",
            "\n",
            "Correct Answer: Spontaneous Recovery\n",
            "Explanation: Spontaneous recovery occurs when a conditioned response reappears after extinction has occurred, even if the conditioned stimulus is not presented with the unconditioned stimulus.\n",
            "\n",
            "Question 6:\n",
            "Question: What is the term for the process by which a conditioned stimulus becomes associated with multiple stimuli to elicit a conditioned response?\n",
            "Options:\n",
            "  A. Stimulus Discrimination\n",
            "  B. Habituation\n",
            "  C. Sensitization\n",
            "  D. Stimulus Generalization\n",
            "\n",
            "Correct Answer: Stimulus Generalization\n",
            "Explanation: Stimulus generalization occurs when a conditioned stimulus becomes associated with multiple stimuli to elicit a conditioned response.\n",
            "\n",
            "Question 7:\n",
            "Question: What is the term for the process by which a conditioned stimulus becomes less associated with a particular stimulus to elicit a conditioned response?\n",
            "Options:\n",
            "  A. Stimulus Generalization\n",
            "  B. Habituation\n",
            "  C. Sensitization\n",
            "  D. Stimulus Discrimination\n",
            "\n",
            "Correct Answer: Stimulus Discrimination\n",
            "Explanation: Stimulus discrimination occurs when a conditioned stimulus becomes less associated with a particular stimulus to elicit a conditioned response.\n",
            "\n",
            "Question 8:\n",
            "Question: What is the term for the decrease in response to a stimulus after repeated presentations?\n",
            "Options:\n",
            "  A. Sensitization\n",
            "  B. Extinction\n",
            "  C. Spontaneous Recovery\n",
            "  D. Habituation\n",
            "\n",
            "Correct Answer: Habituation\n",
            "Explanation: Habituation occurs when a response decreases in strength or disappears after repeated presentations of a stimulus.\n",
            "\n",
            "Question 9:\n",
            "Question: What is the term for the increase in response to a stimulus after repeated presentations?\n",
            "Options:\n",
            "  A. Habituation\n",
            "  B. Extinction\n",
            "  C. Spontaneous Recovery\n",
            "  D. Sensitization\n",
            "\n",
            "Correct Answer: Sensitization\n",
            "Explanation: Sensitization occurs when a response increases in strength or appears after repeated presentations of a stimulus.\n",
            "\n",
            "Question 10:\n",
            "Question: What is the term for the conditioned response that is elicited by a conditioned stimulus?\n",
            "Options:\n",
            "  A. Unconditioned Response (UR)\n",
            "  B. Conditioned Stimulus (CS)\n",
            "  C. Unconditioned Stimulus (US)\n",
            "  D. Conditioned Response (CR)\n",
            "\n",
            "Correct Answer: Conditioned Response (CR)\n",
            "Explanation: The conditioned response is the response elicited by a conditioned stimulus after learning has occurred.\n",
            "\n"
          ]
        }
      ],
      "source": [
        "%%time\n",
        "from educhain import Educhain\n",
        "\n",
        "client = Educhain(llama3_70b_config)\n",
        "\n",
        "ques = client.qna_engine.generate_questions(topic = \"Psychology\",\n",
        "                                            num = 10,\n",
        "                                            custom_instructions=\"Classical Conditioning\",\n",
        "                                            )\n",
        "ques.show()"
      ]
    },
    {
      "cell_type": "code",
      "execution_count": null,
      "metadata": {
        "id": "OAx8uwha6Wfs"
      },
      "outputs": [],
      "source": []
    }
  ],
  "metadata": {
    "kernelspec": {
      "display_name": "localdev",
      "language": "python",
      "name": "python3"
    },
    "language_info": {
      "codemirror_mode": {
        "name": "ipython",
        "version": 3
      },
      "file_extension": ".py",
      "mimetype": "text/x-python",
      "name": "python",
      "nbconvert_exporter": "python",
      "pygments_lexer": "ipython3",
      "version": "3.10.15"
    },
    "colab": {
      "provenance": []
    }
  },
  "nbformat": 4,
  "nbformat_minor": 0
}