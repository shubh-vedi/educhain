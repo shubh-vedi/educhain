{
  "nbformat": 4,
  "nbformat_minor": 0,
  "metadata": {
    "colab": {
      "provenance": []
    },
    "kernelspec": {
      "name": "python3",
      "display_name": "Python 3"
    },
    "language_info": {
      "name": "python"
    }
  },
  "cells": [
    {
      "cell_type": "markdown",
      "source": [
        "![logo.svg](data:image/svg+xml;base64,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)"
      ],
      "metadata": {
        "id": "_PwffyTst_yl"
      }
    },
    {
      "cell_type": "markdown",
      "source": [
        "# educhain [![PyPI version](https://badge.fury.io/py/educhain.svg)](https://badge.fury.io/py/educhain)[![License: MIT](https://img.shields.io/badge/License-MIT-yellow.svg)](https://opensource.org/licenses/MIT)[![Python Versions](https://img.shields.io/pypi/pyversions/educhain.svg)](https://pypi.org/project/educhain/)[![Downloads](https://pepy.tech/badge/educhain)](https://pepy.tech/project/educhain)\n",
        "Educhain is a powerful Python package that leverages Generative AI to create engaging and personalized educational content. From generating multiple-choice questions to crafting comprehensive lesson plans, Educhain makes it easy to apply AI in various educational scenarios."
      ],
      "metadata": {
        "id": "gMRnS-TnpcMM"
      }
    },
    {
      "cell_type": "code",
      "execution_count": 1,
      "metadata": {
        "colab": {
          "base_uri": "https://localhost:8080/"
        },
        "id": "wY8k-7NkpTnj",
        "outputId": "78c661ad-44f7-407b-b192-dc2874a92aec"
      },
      "outputs": [
        {
          "output_type": "stream",
          "name": "stdout",
          "text": [
            "\u001b[2K     \u001b[90m━━━━━━━━━━━━━━━━━━━━━━━━━━━━━━━━━━━━━━━━\u001b[0m \u001b[32m987.6/987.6 kB\u001b[0m \u001b[31m5.8 MB/s\u001b[0m eta \u001b[36m0:00:00\u001b[0m\n",
            "\u001b[2K     \u001b[90m━━━━━━━━━━━━━━━━━━━━━━━━━━━━━━━━━━━━━━━━\u001b[0m \u001b[32m2.2/2.2 MB\u001b[0m \u001b[31m22.0 MB/s\u001b[0m eta \u001b[36m0:00:00\u001b[0m\n",
            "\u001b[2K     \u001b[90m━━━━━━━━━━━━━━━━━━━━━━━━━━━━━━━━━━━━━━━━\u001b[0m \u001b[32m46.1/46.1 kB\u001b[0m \u001b[31m3.5 MB/s\u001b[0m eta \u001b[36m0:00:00\u001b[0m\n",
            "\u001b[2K     \u001b[90m━━━━━━━━━━━━━━━━━━━━━━━━━━━━━━━━━━━━━━━━\u001b[0m \u001b[32m328.5/328.5 kB\u001b[0m \u001b[31m20.1 MB/s\u001b[0m eta \u001b[36m0:00:00\u001b[0m\n",
            "\u001b[2K     \u001b[90m━━━━━━━━━━━━━━━━━━━━━━━━━━━━━━━━━━━━━━━━\u001b[0m \u001b[32m1.9/1.9 MB\u001b[0m \u001b[31m17.4 MB/s\u001b[0m eta \u001b[36m0:00:00\u001b[0m\n",
            "\u001b[2K     \u001b[90m━━━━━━━━━━━━━━━━━━━━━━━━━━━━━━━━━━━━━━━━\u001b[0m \u001b[32m232.6/232.6 kB\u001b[0m \u001b[31m15.4 MB/s\u001b[0m eta \u001b[36m0:00:00\u001b[0m\n",
            "\u001b[2K     \u001b[90m━━━━━━━━━━━━━━━━━━━━━━━━━━━━━━━━━━━━━━━━\u001b[0m \u001b[32m366.5/366.5 kB\u001b[0m \u001b[31m11.0 MB/s\u001b[0m eta \u001b[36m0:00:00\u001b[0m\n",
            "\u001b[2K     \u001b[90m━━━━━━━━━━━━━━━━━━━━━━━━━━━━━━━━━━━━━━━━\u001b[0m \u001b[32m129.4/129.4 kB\u001b[0m \u001b[31m11.8 MB/s\u001b[0m eta \u001b[36m0:00:00\u001b[0m\n",
            "\u001b[2K     \u001b[90m━━━━━━━━━━━━━━━━━━━━━━━━━━━━━━━━━━━━━━━━\u001b[0m \u001b[32m1.1/1.1 MB\u001b[0m \u001b[31m49.9 MB/s\u001b[0m eta \u001b[36m0:00:00\u001b[0m\n",
            "\u001b[2K     \u001b[90m━━━━━━━━━━━━━━━━━━━━━━━━━━━━━━━━━━━━━━━━\u001b[0m \u001b[32m75.6/75.6 kB\u001b[0m \u001b[31m7.8 MB/s\u001b[0m eta \u001b[36m0:00:00\u001b[0m\n",
            "\u001b[2K     \u001b[90m━━━━━━━━━━━━━━━━━━━━━━━━━━━━━━━━━━━━━━━━\u001b[0m \u001b[32m49.2/49.2 kB\u001b[0m \u001b[31m4.2 MB/s\u001b[0m eta \u001b[36m0:00:00\u001b[0m\n",
            "\u001b[2K     \u001b[90m━━━━━━━━━━━━━━━━━━━━━━━━━━━━━━━━━━━━━━━━\u001b[0m \u001b[32m77.9/77.9 kB\u001b[0m \u001b[31m6.2 MB/s\u001b[0m eta \u001b[36m0:00:00\u001b[0m\n",
            "\u001b[2K     \u001b[90m━━━━━━━━━━━━━━━━━━━━━━━━━━━━━━━━━━━━━━━━\u001b[0m \u001b[32m58.3/58.3 kB\u001b[0m \u001b[31m6.5 MB/s\u001b[0m eta \u001b[36m0:00:00\u001b[0m\n",
            "\u001b[2K     \u001b[90m━━━━━━━━━━━━━━━━━━━━━━━━━━━━━━━━━━━━━━━━\u001b[0m \u001b[32m141.1/141.1 kB\u001b[0m \u001b[31m3.1 MB/s\u001b[0m eta \u001b[36m0:00:00\u001b[0m\n",
            "\u001b[?25h"
          ]
        }
      ],
      "source": [
        "!pip install -qU educhain --quiet"
      ]
    },
    {
      "cell_type": "markdown",
      "source": [
        "## Set up your API Key\n",
        "Default is set to [OPENAI](https://openai.com/)"
      ],
      "metadata": {
        "id": "RE8uyqfrp18f"
      }
    },
    {
      "cell_type": "code",
      "source": [
        "import os\n",
        "from google.colab import userdata\n",
        "\n",
        "os.environ[\"OPENAI_API_KEY\"] = userdata.get('OPENAI_API_KEY')"
      ],
      "metadata": {
        "id": "5mv32TwupyUD"
      },
      "execution_count": 3,
      "outputs": []
    },
    {
      "cell_type": "markdown",
      "source": [
        "Other API KEY Sample Usage"
      ],
      "metadata": {
        "id": "oPgjvGQMqNXl"
      }
    },
    {
      "cell_type": "code",
      "source": [
        "from langchain_openai import ChatOpenAI\n",
        "from google.colab import userdata\n",
        "\n",
        "llama3_groq = ChatOpenAI(\n",
        "    model = \"llama3-70b-8192\",\n",
        "    openai_api_base = \"https://api.groq.com/openai/v1\",\n",
        "    openai_api_key = userdata.get(\"GROQ_API_KEY\")\n",
        ")"
      ],
      "metadata": {
        "id": "7L4CbYF4qTPv"
      },
      "execution_count": null,
      "outputs": []
    },
    {
      "cell_type": "markdown",
      "source": [
        "# Quickstart"
      ],
      "metadata": {
        "id": "gzKZtf-9qbRa"
      }
    },
    {
      "cell_type": "code",
      "source": [
        "from educhain import qna_engine\n",
        "\n",
        "questions = qna_engine.generate_mcq(\n",
        "    topic=\"Indian History\",\n",
        "    level=\"Beginner\",\n",
        "    num=2\n",
        ")\n",
        "questions.show()\n"
      ],
      "metadata": {
        "colab": {
          "base_uri": "https://localhost:8080/"
        },
        "id": "RItKCiK1qcdI",
        "outputId": "7f515d5e-a3de-469c-f1a9-445d278a22c1"
      },
      "execution_count": 6,
      "outputs": [
        {
          "output_type": "stream",
          "name": "stdout",
          "text": [
            "Question 1:\n",
            "Question: Who was the first Prime Minister of India?\n",
            "Options:\n",
            "  A. Mahatma Gandhi\n",
            "  B. Indira Gandhi\n",
            "  C. Jawaharlal Nehru\n",
            "  D. Sardar Vallabhbhai Patel\n",
            "\n",
            "Correct Answer: Jawaharlal Nehru\n",
            "Explanation: Jawaharlal Nehru served as the first Prime Minister of India from 1947 to 1964.\n",
            "\n",
            "Question 2:\n",
            "Question: When did India gain independence from British rule?\n",
            "Options:\n",
            "  A. 1918\n",
            "  B. 1947\n",
            "  C. 1956\n",
            "  D. 1962\n",
            "\n",
            "Correct Answer: 1947\n",
            "Explanation: India gained independence from British rule on August 15, 1947.\n",
            "\n"
          ]
        }
      ]
    },
    {
      "cell_type": "markdown",
      "source": [
        "## Using Custom Prompt Templates 🖊"
      ],
      "metadata": {
        "id": "VlgOUjIqqtFZ"
      }
    },
    {
      "cell_type": "code",
      "source": [
        "from educhain import qna_engine\n",
        "\n",
        "custom_template = \"\"\"\n",
        "Generate {num} multiple-choice question (MCQ) based on the given topic and level.\n",
        "Provide the question, four answer options, and the correct answer.\n",
        "Topic: {topic}\n",
        "Learning Objective: {learning_objective}\n",
        "Difficulty Level: {difficulty_level}\n",
        "\"\"\"\n",
        "\n",
        "result = qna_engine.generate_mcq(\n",
        "    topic=\"Python Programming\",\n",
        "    num=2,\n",
        "    learning_objective=\"Usage of Python classes\",\n",
        "    difficulty_level=\"Hard\",\n",
        "    prompt_template=custom_template,\n",
        ")\n",
        "\n",
        "result.show()"
      ],
      "metadata": {
        "colab": {
          "base_uri": "https://localhost:8080/"
        },
        "id": "4ucAlYinqgaQ",
        "outputId": "2a1178df-3f54-4025-8f12-92b702ea525e"
      },
      "execution_count": 8,
      "outputs": [
        {
          "output_type": "stream",
          "name": "stdout",
          "text": [
            "Question 1:\n",
            "Question: What is the purpose of 'self' in Python classes?\n",
            "Options:\n",
            "  A. To create a new instance of the class\n",
            "  B. To access global variables\n",
            "  C. To delete an instance of the class\n",
            "  D. To refer to the parent class\n",
            "\n",
            "Correct Answer: To refer to the instance of the class\n",
            "Explanation: The 'self' parameter is used to access variables that belong to the class. It is a reference to the instance of the class.\n",
            "\n",
            "Question 2:\n",
            "Question: What is method overloading in Python classes?\n",
            "Options:\n",
            "  A. Creating multiple methods with the same name and same parameters\n",
            "  B. Creating a method with a different name than the class\n",
            "  C. Creating a method that does not return any value\n",
            "  D. Creating a method that is private to the class\n",
            "\n",
            "Correct Answer: Creating multiple methods with the same name but different parameters\n",
            "Explanation: Method overloading allows different methods to have the same name but different parameters or different types of parameters.\n",
            "\n"
          ]
        }
      ]
    },
    {
      "cell_type": "markdown",
      "source": [
        "## Generate questions from data sources 📚"
      ],
      "metadata": {
        "id": "XfcagWyUq8fN"
      }
    },
    {
      "cell_type": "code",
      "source": [
        "from educhain import qna_engine\n",
        "\n",
        "questions = qna_engine.generate_mcqs_from_data(\n",
        "    source=\"https://www.buildfastwithai.com/\",   #Supported sources = \"url\",\"pdf\",\"text\"\n",
        "    source_type=\"url\",                           #Supported types = \"url\",\"pdf\",\"text\"\n",
        "    num=2,\n",
        "    learning_objective=\"Understand key concepts\",\n",
        "    difficulty_level=\"Intermediate\"\n",
        ")\n",
        "questions.show()"
      ],
      "metadata": {
        "colab": {
          "base_uri": "https://localhost:8080/"
        },
        "id": "9lowSSKGq0lA",
        "outputId": "c8178cba-e3ab-4b30-bed3-0a026735415e"
      },
      "execution_count": 9,
      "outputs": [
        {
          "output_type": "stream",
          "name": "stdout",
          "text": [
            "Question 1:\n",
            "Question: What is the focus of the Claude 3.5 Sonnet event?\n",
            "Options:\n",
            "  A. Learn about web scraping with AI\n",
            "  B. Discover the power of LLMs for function calling\n",
            "  C. Understand the Claude family of models and explore the Artifacts feature\n",
            "  D. Explore the Gen AI course content\n",
            "\n",
            "Correct Answer: Gain insights into the Claude family of models and explore the Artifacts feature.\n",
            "Explanation: The focus of the Claude 3.5 Sonnet event is to provide insights into the Claude family of models and explore the Artifacts feature for integrating Sonnet into projects using APIs.\n",
            "\n",
            "Question 2:\n",
            "Question: What is the main topic covered in the 'Web Scraping with AI' course?\n",
            "Options:\n",
            "  A. Building real-world projects with AI\n",
            "  B. Exploring web scraping enhanced by Generative AI\n",
            "  C. Learning about function calling with LLMs\n",
            "  D. Understanding the legal aspects of AI development\n",
            "\n",
            "Correct Answer: Exploring web scraping enhanced by Generative AI\n",
            "Explanation: The main topic covered in the 'Web Scraping with AI' course is exploring the evolving field of web scraping enhanced by the power of Generative AI to revolutionize data extraction.\n",
            "\n"
          ]
        }
      ]
    },
    {
      "cell_type": "markdown",
      "source": [
        "PDF Support"
      ],
      "metadata": {
        "id": "cfSGSsuPr34e"
      }
    },
    {
      "cell_type": "code",
      "source": [
        "from educhain import qna_engine\n",
        "\n",
        "questions = qna_engine.generate_mcqs_from_data(\n",
        "    source=\"your/file.pdf\",   #Supported sources = \"url\",\"pdf\",\"text\"\n",
        "    source_type=\"pdf\",                           #Supported types = \"url\",\"pdf\",\"text\"\n",
        "    num=2,\n",
        "    learning_objective=\"Understand key concepts\",\n",
        "    difficulty_level=\"Intermediate\"\n",
        ")\n",
        "questions.show()"
      ],
      "metadata": {
        "id": "bGiQmqwvrIC1"
      },
      "execution_count": null,
      "outputs": []
    },
    {
      "cell_type": "markdown",
      "source": [
        "Text Support"
      ],
      "metadata": {
        "id": "zkrp2Ogmr2Ft"
      }
    },
    {
      "cell_type": "code",
      "source": [
        "from educhain import qna_engine\n",
        "text = \"\"\"\n",
        "        replace with your text\n",
        "      \"\"\"\n",
        "questions = qna_engine.generate_mcqs_from_data(\n",
        "    source=\"text\",   #Supported sources = \"url\",\"pdf\",\"text\"\n",
        "    source_type=\"text\",                           #Supported types = \"url\",\"pdf\",\"text\"\n",
        "    num=2,\n",
        "    learning_objective=\"Understand key concepts\",\n",
        "    difficulty_level=\"Intermediate\"\n",
        ")\n",
        "questions.show()"
      ],
      "metadata": {
        "id": "q074VxkjrsmZ"
      },
      "execution_count": null,
      "outputs": []
    },
    {
      "cell_type": "markdown",
      "source": [
        "## Generate Questions with question types ⁉\n",
        "\n",
        "✅ Multiple Choice\n",
        "\n",
        "✅`Fill in the blanks\n",
        "\n",
        "✅ Short Answer\n",
        "\n",
        "✅ True/False Questions"
      ],
      "metadata": {
        "id": "sbJt9v5isIDm"
      }
    },
    {
      "cell_type": "markdown",
      "source": [
        "##QuestionTypes =[\"Multiple Choice\", \"Short Answer\", \"True/False\", \"Fill in the Blank\"] 🤯🤯"
      ],
      "metadata": {
        "id": "q-seOFhstFVl"
      }
    },
    {
      "cell_type": "code",
      "source": [
        "from educhain import qna_engine\n",
        "\n",
        "questions = qna_engine.generate_questions(\n",
        "    topic=\"Machine Learning\",\n",
        "    num=3,\n",
        "    type=\"Short Answer\") # #supported types : \"Multiple Choice\", \"Short Answer\", \"True/False\", \"Fill in the Blank\"\n",
        "\n",
        "questions.show()\n"
      ],
      "metadata": {
        "colab": {
          "base_uri": "https://localhost:8080/"
        },
        "id": "oiFdq_3LsHpE",
        "outputId": "c0abd35d-2c2b-423c-db3b-c6da3df3b42c"
      },
      "execution_count": 10,
      "outputs": [
        {
          "output_type": "stream",
          "name": "stdout",
          "text": [
            "Question 1:\n",
            "Question: What is supervised learning in machine learning?\n",
            "Answer: Supervised learning is a type of machine learning where the model is trained on labeled data, meaning the input data has corresponding output labels.\n",
            "Explanation: In supervised learning, the algorithm learns to map input data to the correct output during training by using labeled examples. The goal is to make accurate predictions when given new, unseen data.\n",
            "\n",
            "Keywords: supervised learning, labeled data, training, predictions\n",
            "\n",
            "Question 2:\n",
            "Question: What is the difference between classification and regression in machine learning?\n",
            "Answer: Classification is used when the output variable is a category, while regression is used when the output variable is a continuous value.\n",
            "Explanation: In classification, the goal is to predict the class or category that an input data point belongs to. In regression, the goal is to predict a continuous numerical value based on the input data.\n",
            "\n",
            "Keywords: classification, regression, output variable, category, continuous value\n",
            "\n",
            "Question 3:\n",
            "Question: What is overfitting in machine learning?\n",
            "Answer: Overfitting occurs when a machine learning model performs well on the training data but fails to generalize to new, unseen data.\n",
            "Explanation: Overfitting happens when the model learns the noise and details in the training data to the extent that it negatively impacts its performance on new data. Regularization techniques can help prevent overfitting.\n",
            "\n",
            "Keywords: overfitting, training data, generalize, unseen data, regularization\n",
            "\n"
          ]
        }
      ]
    },
    {
      "cell_type": "code",
      "source": [
        "from educhain import qna_engine\n",
        "\n",
        "questions = qna_engine.generate_questions(\n",
        "    topic=\"Machine Learning\",\n",
        "    num=3,\n",
        "    type=\"Fill in the Blank\") #supported types : \"Multiple Choice\", \"Short Answer\", \"True/False\", \"Fill in the Blank\"\n",
        "\n",
        "questions.show()\n"
      ],
      "metadata": {
        "colab": {
          "base_uri": "https://localhost:8080/"
        },
        "id": "Ptwp1DT7s21M",
        "outputId": "eea6016f-2769-44de-d837-ef9d7360b612"
      },
      "execution_count": 14,
      "outputs": [
        {
          "output_type": "stream",
          "name": "stdout",
          "text": [
            "Question 1:\n",
            "Question: Machine learning is a branch of artificial intelligence that focuses on the development of algorithms that allow a computer to __________ patterns within data.\n",
            "Answer: learn\n",
            "Explanation: Machine learning algorithms are designed to learn from data and make predictions or decisions based on that data.\n",
            "\n",
            "Word to fill: learn\n",
            "\n",
            "Question 2:\n",
            "Question: In supervised learning, the algorithm is trained on a dataset that includes both input data and the corresponding ____________.\n",
            "Answer: output\n",
            "Explanation: Supervised learning involves teaching the algorithm by providing labeled examples where the correct output is known.\n",
            "\n",
            "Word to fill: output\n",
            "\n",
            "Question 3:\n",
            "Question: Cross-validation is a technique used in machine learning to assess the performance of a model by splitting the data into multiple subsets or folds to ensure that each data point is used for both training and ____________.\n",
            "Answer: testing\n",
            "Explanation: Cross-validation helps evaluate how well a model generalizes to new, unseen data by testing it on different subsets of the dataset.\n",
            "\n",
            "Word to fill: testing\n",
            "\n"
          ]
        }
      ]
    },
    {
      "cell_type": "code",
      "source": [],
      "metadata": {
        "id": "TGKxCNtms0Oa"
      },
      "execution_count": null,
      "outputs": []
    }
  ]
}
